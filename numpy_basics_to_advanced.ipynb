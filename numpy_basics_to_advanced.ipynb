{
  "cells": [
    {
      "cell_type": "markdown",
      "metadata": {
        "id": "view-in-github",
        "colab_type": "text"
      },
      "source": [
        "<a href=\"https://colab.research.google.com/github/arifduet/Machine-Learning-Project/blob/main/numpy_basics_to_advanced.ipynb\" target=\"_parent\"><img src=\"https://colab.research.google.com/assets/colab-badge.svg\" alt=\"Open In Colab\"/></a>"
      ]
    },
    {
      "cell_type": "code",
      "execution_count": null,
      "metadata": {
        "_cell_guid": "b1076dfc-b9ad-4769-8c92-a6c4dae69d19",
        "_uuid": "8f2839f25d086af736a60e9eeb907d3b93b6e0e5",
        "execution": {
          "iopub.execute_input": "2020-08-17T05:09:58.191779Z",
          "iopub.status.busy": "2020-08-17T05:09:58.190843Z",
          "iopub.status.idle": "2020-08-17T05:09:58.194175Z",
          "shell.execute_reply": "2020-08-17T05:09:58.193520Z"
        },
        "papermill": {
          "duration": 0.019468,
          "end_time": "2020-08-17T05:09:58.194320",
          "exception": false,
          "start_time": "2020-08-17T05:09:58.174852",
          "status": "completed"
        },
        "tags": [],
        "id": "4lz8SDfxb1NE"
      },
      "outputs": [],
      "source": [
        "# This Python 3 environment comes with many helpful analytics libraries installed\n",
        "# It is defined by the kaggle/python Docker image: https://github.com/kaggle/docker-python\n",
        "# For example, here's several helpful packages to load\n",
        "\n",
        "import numpy as np # linear algebra\n",
        "\n",
        "\n",
        "#This Session is full of Numpy From Basics to Advance"
      ]
    },
    {
      "cell_type": "markdown",
      "metadata": {
        "papermill": {
          "duration": 0.008529,
          "end_time": "2020-08-17T05:09:58.212141",
          "exception": false,
          "start_time": "2020-08-17T05:09:58.203612",
          "status": "completed"
        },
        "tags": [],
        "id": "An302bXZb1NH"
      },
      "source": [
        "> **To Create an Numpy array**"
      ]
    },
    {
      "cell_type": "code",
      "execution_count": null,
      "metadata": {
        "_cell_guid": "79c7e3d0-c299-4dcb-8224-4455121ee9b0",
        "_uuid": "d629ff2d2480ee46fbb7e2d37f6b5fab8052498a",
        "execution": {
          "iopub.execute_input": "2020-08-17T05:09:58.235931Z",
          "iopub.status.busy": "2020-08-17T05:09:58.234941Z",
          "iopub.status.idle": "2020-08-17T05:09:58.238166Z",
          "shell.execute_reply": "2020-08-17T05:09:58.237413Z"
        },
        "papermill": {
          "duration": 0.017616,
          "end_time": "2020-08-17T05:09:58.238298",
          "exception": false,
          "start_time": "2020-08-17T05:09:58.220682",
          "status": "completed"
        },
        "tags": [],
        "id": "iADC9jkdb1NI"
      },
      "outputs": [],
      "source": [
        "arr = np.array([1,2,3,4]) #single dimensional numpy array"
      ]
    },
    {
      "cell_type": "code",
      "execution_count": null,
      "metadata": {
        "execution": {
          "iopub.execute_input": "2020-08-17T05:09:58.264548Z",
          "iopub.status.busy": "2020-08-17T05:09:58.263642Z",
          "iopub.status.idle": "2020-08-17T05:09:58.268609Z",
          "shell.execute_reply": "2020-08-17T05:09:58.267993Z"
        },
        "papermill": {
          "duration": 0.021306,
          "end_time": "2020-08-17T05:09:58.268744",
          "exception": false,
          "start_time": "2020-08-17T05:09:58.247438",
          "status": "completed"
        },
        "tags": [],
        "id": "ZalMghFBb1NI",
        "outputId": "f0d7d895-c6f7-4dca-db40-d05358a7ed8d"
      },
      "outputs": [
        {
          "data": {
            "text/plain": [
              "2"
            ]
          },
          "execution_count": 3,
          "metadata": {},
          "output_type": "execute_result"
        }
      ],
      "source": [
        "arr[1] #to access the data"
      ]
    },
    {
      "cell_type": "code",
      "execution_count": null,
      "metadata": {
        "execution": {
          "iopub.execute_input": "2020-08-17T05:09:58.296203Z",
          "iopub.status.busy": "2020-08-17T05:09:58.294944Z",
          "iopub.status.idle": "2020-08-17T05:09:58.298728Z",
          "shell.execute_reply": "2020-08-17T05:09:58.297978Z"
        },
        "papermill": {
          "duration": 0.020763,
          "end_time": "2020-08-17T05:09:58.298875",
          "exception": false,
          "start_time": "2020-08-17T05:09:58.278112",
          "status": "completed"
        },
        "tags": [],
        "id": "XtgslhS5b1NI"
      },
      "outputs": [],
      "source": [
        "#Twodimensional array\n",
        "arr2 = np.array([\n",
        "    [1,2,3],\n",
        "    [4,5,6]\n",
        "])"
      ]
    },
    {
      "cell_type": "code",
      "execution_count": null,
      "metadata": {
        "execution": {
          "iopub.execute_input": "2020-08-17T05:09:58.324487Z",
          "iopub.status.busy": "2020-08-17T05:09:58.323490Z",
          "iopub.status.idle": "2020-08-17T05:09:58.327038Z",
          "shell.execute_reply": "2020-08-17T05:09:58.326258Z"
        },
        "papermill": {
          "duration": 0.019141,
          "end_time": "2020-08-17T05:09:58.327176",
          "exception": false,
          "start_time": "2020-08-17T05:09:58.308035",
          "status": "completed"
        },
        "tags": [],
        "id": "QTwLCSZZb1NJ"
      },
      "outputs": [],
      "source": [
        "#Multidimensional array\n",
        "arr3 = np.array([\n",
        "    [[1,2,3]],\n",
        "    [[4,5,6]]\n",
        "])"
      ]
    },
    {
      "cell_type": "markdown",
      "metadata": {
        "papermill": {
          "duration": 0.00884,
          "end_time": "2020-08-17T05:09:58.345365",
          "exception": false,
          "start_time": "2020-08-17T05:09:58.336525",
          "status": "completed"
        },
        "tags": [],
        "id": "yc4mWILGb1NJ"
      },
      "source": [
        "#To create an Identity Matrix"
      ]
    },
    {
      "cell_type": "code",
      "execution_count": null,
      "metadata": {
        "execution": {
          "iopub.execute_input": "2020-08-17T05:09:58.371817Z",
          "iopub.status.busy": "2020-08-17T05:09:58.370908Z",
          "iopub.status.idle": "2020-08-17T05:09:58.375927Z",
          "shell.execute_reply": "2020-08-17T05:09:58.375127Z"
        },
        "papermill": {
          "duration": 0.021484,
          "end_time": "2020-08-17T05:09:58.376060",
          "exception": false,
          "start_time": "2020-08-17T05:09:58.354576",
          "status": "completed"
        },
        "tags": [],
        "id": "tWrBTt_0b1NJ",
        "outputId": "0cbea174-ae23-426d-8e74-ca6ae164d915"
      },
      "outputs": [
        {
          "data": {
            "text/plain": [
              "array([[1., 0., 0.],\n",
              "       [0., 1., 0.],\n",
              "       [0., 0., 1.]])"
            ]
          },
          "execution_count": 6,
          "metadata": {},
          "output_type": "execute_result"
        }
      ],
      "source": [
        "np.eye(3)"
      ]
    },
    {
      "cell_type": "code",
      "execution_count": null,
      "metadata": {
        "execution": {
          "iopub.execute_input": "2020-08-17T05:09:58.404064Z",
          "iopub.status.busy": "2020-08-17T05:09:58.403099Z",
          "iopub.status.idle": "2020-08-17T05:09:58.407015Z",
          "shell.execute_reply": "2020-08-17T05:09:58.407697Z"
        },
        "papermill": {
          "duration": 0.022293,
          "end_time": "2020-08-17T05:09:58.407885",
          "exception": false,
          "start_time": "2020-08-17T05:09:58.385592",
          "status": "completed"
        },
        "tags": [],
        "id": "8r_Zk8aNb1NK",
        "outputId": "098981a7-b261-45e5-c47a-434242123b69"
      },
      "outputs": [
        {
          "name": "stdout",
          "output_type": "stream",
          "text": [
            "shapes of the arrays, arr :(4,), arr2 : (2, 3), arr3 : (2, 1, 3)\n",
            "\n",
            "dimensional of the arrays, arr :1, arr2 : 2, arr3 : 3\n",
            "\n",
            "size of the arrays, arr :4, arr2 : 6, arr3 : 6\n"
          ]
        }
      ],
      "source": [
        "#Basic functions in python\n",
        "print(\"shapes of the arrays, arr :{}, arr2 : {}, arr3 : {}\".format( arr.shape, arr2.shape, arr3.shape))\n",
        "print()\n",
        "print(\"dimensional of the arrays, arr :{}, arr2 : {}, arr3 : {}\".format( arr.ndim, arr2.ndim, arr3.ndim ))\n",
        "print()\n",
        "print(\"size of the arrays, arr :{}, arr2 : {}, arr3 : {}\".format( arr.size, arr2.size,arr3.size))"
      ]
    },
    {
      "cell_type": "code",
      "execution_count": null,
      "metadata": {
        "execution": {
          "iopub.execute_input": "2020-08-17T05:09:58.437504Z",
          "iopub.status.busy": "2020-08-17T05:09:58.436676Z",
          "iopub.status.idle": "2020-08-17T05:09:58.441250Z",
          "shell.execute_reply": "2020-08-17T05:09:58.440255Z"
        },
        "papermill": {
          "duration": 0.02406,
          "end_time": "2020-08-17T05:09:58.441425",
          "exception": false,
          "start_time": "2020-08-17T05:09:58.417365",
          "status": "completed"
        },
        "tags": [],
        "id": "StrlYCjEb1NK",
        "outputId": "f9643f74-036f-4516-ad98-4d376aaccfb6"
      },
      "outputs": [
        {
          "name": "stdout",
          "output_type": "stream",
          "text": [
            "Max number\n",
            "4\n",
            "6\n",
            "6\n",
            "Index number of the maximum arguments\n",
            "3\n",
            "5\n",
            "5\n"
          ]
        }
      ],
      "source": [
        "#to Find Max\n",
        "print(\"Max number\")\n",
        "print(arr.max())\n",
        "print(arr2.max())\n",
        "print(arr3.max())\n",
        "print(\"Index number of the maximum arguments\")\n",
        "#to Find the max number argument\n",
        "print(arr.argmax())\n",
        "print(arr2.argmax())\n",
        "print(arr3.argmax())"
      ]
    },
    {
      "cell_type": "markdown",
      "metadata": {
        "papermill": {
          "duration": 0.009384,
          "end_time": "2020-08-17T05:09:58.461070",
          "exception": false,
          "start_time": "2020-08-17T05:09:58.451686",
          "status": "completed"
        },
        "tags": [],
        "id": "fQkjr8HGb1NK"
      },
      "source": [
        "Numpy Specials:\n",
        "1) Arange Function:\n",
        "np.arange(start,stop,step)"
      ]
    },
    {
      "cell_type": "code",
      "execution_count": null,
      "metadata": {
        "execution": {
          "iopub.execute_input": "2020-08-17T05:09:58.486563Z",
          "iopub.status.busy": "2020-08-17T05:09:58.485765Z",
          "iopub.status.idle": "2020-08-17T05:09:58.491563Z",
          "shell.execute_reply": "2020-08-17T05:09:58.490784Z"
        },
        "papermill": {
          "duration": 0.021174,
          "end_time": "2020-08-17T05:09:58.491695",
          "exception": false,
          "start_time": "2020-08-17T05:09:58.470521",
          "status": "completed"
        },
        "tags": [],
        "id": "20KstdI1b1NK",
        "outputId": "143c9962-499f-43f8-c2da-3344cd6692af"
      },
      "outputs": [
        {
          "data": {
            "text/plain": [
              "array([ 1,  3,  5,  7,  9, 11, 13, 15, 17, 19, 21, 23, 25, 27, 29, 31, 33,\n",
              "       35, 37, 39, 41, 43, 45, 47, 49, 51, 53, 55, 57, 59, 61, 63, 65, 67,\n",
              "       69, 71, 73, 75, 77, 79, 81, 83, 85, 87, 89, 91, 93, 95, 97, 99])"
            ]
          },
          "execution_count": 9,
          "metadata": {},
          "output_type": "execute_result"
        }
      ],
      "source": [
        "np.arange(1,100,2)"
      ]
    },
    {
      "cell_type": "markdown",
      "metadata": {
        "papermill": {
          "duration": 0.009542,
          "end_time": "2020-08-17T05:09:58.511014",
          "exception": false,
          "start_time": "2020-08-17T05:09:58.501472",
          "status": "completed"
        },
        "tags": [],
        "id": "niPqVQ6sb1NK"
      },
      "source": [
        "2) Linspace: np.linspace(start, stop, b/n range)"
      ]
    },
    {
      "cell_type": "code",
      "execution_count": null,
      "metadata": {
        "execution": {
          "iopub.execute_input": "2020-08-17T05:09:58.537819Z",
          "iopub.status.busy": "2020-08-17T05:09:58.536758Z",
          "iopub.status.idle": "2020-08-17T05:09:58.541683Z",
          "shell.execute_reply": "2020-08-17T05:09:58.541036Z"
        },
        "papermill": {
          "duration": 0.021138,
          "end_time": "2020-08-17T05:09:58.541813",
          "exception": false,
          "start_time": "2020-08-17T05:09:58.520675",
          "status": "completed"
        },
        "tags": [],
        "id": "1UCP8BCXb1NL",
        "outputId": "ae7831d2-d6c9-4b94-91ff-9388c0e67f0a"
      },
      "outputs": [
        {
          "data": {
            "text/plain": [
              "array([0.        , 0.11111111, 0.22222222, 0.33333333, 0.44444444,\n",
              "       0.55555556, 0.66666667, 0.77777778, 0.88888889, 1.        ])"
            ]
          },
          "execution_count": 10,
          "metadata": {},
          "output_type": "execute_result"
        }
      ],
      "source": [
        "np.linspace(0,1,10)"
      ]
    },
    {
      "cell_type": "code",
      "execution_count": null,
      "metadata": {
        "execution": {
          "iopub.execute_input": "2020-08-17T05:09:58.570631Z",
          "iopub.status.busy": "2020-08-17T05:09:58.569483Z",
          "iopub.status.idle": "2020-08-17T05:09:58.574698Z",
          "shell.execute_reply": "2020-08-17T05:09:58.574030Z"
        },
        "papermill": {
          "duration": 0.022844,
          "end_time": "2020-08-17T05:09:58.574856",
          "exception": false,
          "start_time": "2020-08-17T05:09:58.552012",
          "status": "completed"
        },
        "tags": [],
        "id": "E80DjoWYb1NL",
        "outputId": "e3115c7d-9886-41cb-bae7-4d149a26fb12"
      },
      "outputs": [
        {
          "data": {
            "text/plain": [
              "array([ 1.        ,  1.18367347,  1.36734694,  1.55102041,  1.73469388,\n",
              "        1.91836735,  2.10204082,  2.28571429,  2.46938776,  2.65306122,\n",
              "        2.83673469,  3.02040816,  3.20408163,  3.3877551 ,  3.57142857,\n",
              "        3.75510204,  3.93877551,  4.12244898,  4.30612245,  4.48979592,\n",
              "        4.67346939,  4.85714286,  5.04081633,  5.2244898 ,  5.40816327,\n",
              "        5.59183673,  5.7755102 ,  5.95918367,  6.14285714,  6.32653061,\n",
              "        6.51020408,  6.69387755,  6.87755102,  7.06122449,  7.24489796,\n",
              "        7.42857143,  7.6122449 ,  7.79591837,  7.97959184,  8.16326531,\n",
              "        8.34693878,  8.53061224,  8.71428571,  8.89795918,  9.08163265,\n",
              "        9.26530612,  9.44897959,  9.63265306,  9.81632653, 10.        ])"
            ]
          },
          "execution_count": 11,
          "metadata": {},
          "output_type": "execute_result"
        }
      ],
      "source": [
        "np.linspace(1,10) #if range not given, it takes default value 50"
      ]
    },
    {
      "cell_type": "markdown",
      "metadata": {
        "papermill": {
          "duration": 0.009724,
          "end_time": "2020-08-17T05:09:58.594706",
          "exception": false,
          "start_time": "2020-08-17T05:09:58.584982",
          "status": "completed"
        },
        "tags": [],
        "id": "PNyN1kyEb1NL"
      },
      "source": [
        "3) logspace: np.logspace(start, stop, 10_base_range)"
      ]
    },
    {
      "cell_type": "code",
      "execution_count": null,
      "metadata": {
        "execution": {
          "iopub.execute_input": "2020-08-17T05:09:58.622716Z",
          "iopub.status.busy": "2020-08-17T05:09:58.621705Z",
          "iopub.status.idle": "2020-08-17T05:09:58.626745Z",
          "shell.execute_reply": "2020-08-17T05:09:58.626103Z"
        },
        "papermill": {
          "duration": 0.021363,
          "end_time": "2020-08-17T05:09:58.626895",
          "exception": false,
          "start_time": "2020-08-17T05:09:58.605532",
          "status": "completed"
        },
        "tags": [],
        "id": "n3YNDdW-b1NL",
        "outputId": "3641d82b-bfe7-42c9-89db-c9796c4d52fa"
      },
      "outputs": [
        {
          "data": {
            "text/plain": [
              "array([1.e+01, 1.e+04, 1.e+07, 1.e+10])"
            ]
          },
          "execution_count": 12,
          "metadata": {},
          "output_type": "execute_result"
        }
      ],
      "source": [
        "np.logspace(1,10,4)"
      ]
    },
    {
      "cell_type": "markdown",
      "metadata": {
        "papermill": {
          "duration": 0.010715,
          "end_time": "2020-08-17T05:09:58.648044",
          "exception": false,
          "start_time": "2020-08-17T05:09:58.637329",
          "status": "completed"
        },
        "tags": [],
        "id": "2M10oIxAb1NL"
      },
      "source": [
        "4)Ones: np.ones(num)"
      ]
    },
    {
      "cell_type": "code",
      "execution_count": null,
      "metadata": {
        "execution": {
          "iopub.execute_input": "2020-08-17T05:09:58.675999Z",
          "iopub.status.busy": "2020-08-17T05:09:58.675015Z",
          "iopub.status.idle": "2020-08-17T05:09:58.679875Z",
          "shell.execute_reply": "2020-08-17T05:09:58.680452Z"
        },
        "papermill": {
          "duration": 0.021892,
          "end_time": "2020-08-17T05:09:58.680614",
          "exception": false,
          "start_time": "2020-08-17T05:09:58.658722",
          "status": "completed"
        },
        "tags": [],
        "id": "yjbq2iFqb1NL",
        "outputId": "477d00f6-9337-4bf8-e210-b4682c6c660a"
      },
      "outputs": [
        {
          "data": {
            "text/plain": [
              "array([1., 1., 1., 1., 1.])"
            ]
          },
          "execution_count": 13,
          "metadata": {},
          "output_type": "execute_result"
        }
      ],
      "source": [
        "np.ones(5)"
      ]
    },
    {
      "cell_type": "markdown",
      "metadata": {
        "papermill": {
          "duration": 0.010177,
          "end_time": "2020-08-17T05:09:58.701264",
          "exception": false,
          "start_time": "2020-08-17T05:09:58.691087",
          "status": "completed"
        },
        "tags": [],
        "id": "5ELe-wrKb1NL"
      },
      "source": [
        "5)Zeros: np.zeros(num)"
      ]
    },
    {
      "cell_type": "code",
      "execution_count": null,
      "metadata": {
        "execution": {
          "iopub.execute_input": "2020-08-17T05:09:58.729554Z",
          "iopub.status.busy": "2020-08-17T05:09:58.728426Z",
          "iopub.status.idle": "2020-08-17T05:09:58.733361Z",
          "shell.execute_reply": "2020-08-17T05:09:58.732586Z"
        },
        "papermill": {
          "duration": 0.021716,
          "end_time": "2020-08-17T05:09:58.733494",
          "exception": false,
          "start_time": "2020-08-17T05:09:58.711778",
          "status": "completed"
        },
        "tags": [],
        "id": "TAeV1W9xb1NL",
        "outputId": "d57002f3-74c2-48e8-ef43-ffeead0a793b"
      },
      "outputs": [
        {
          "data": {
            "text/plain": [
              "array([0., 0., 0., 0., 0.])"
            ]
          },
          "execution_count": 14,
          "metadata": {},
          "output_type": "execute_result"
        }
      ],
      "source": [
        "np.zeros(5)"
      ]
    },
    {
      "cell_type": "markdown",
      "metadata": {
        "papermill": {
          "duration": 0.010338,
          "end_time": "2020-08-17T05:09:58.754564",
          "exception": false,
          "start_time": "2020-08-17T05:09:58.744226",
          "status": "completed"
        },
        "tags": [],
        "id": "S_M4bp38b1NM"
      },
      "source": [
        "#Random Functions in numpy\n"
      ]
    },
    {
      "cell_type": "code",
      "execution_count": null,
      "metadata": {
        "execution": {
          "iopub.execute_input": "2020-08-17T05:09:58.784073Z",
          "iopub.status.busy": "2020-08-17T05:09:58.783154Z",
          "iopub.status.idle": "2020-08-17T05:09:58.787768Z",
          "shell.execute_reply": "2020-08-17T05:09:58.787134Z"
        },
        "papermill": {
          "duration": 0.022674,
          "end_time": "2020-08-17T05:09:58.787917",
          "exception": false,
          "start_time": "2020-08-17T05:09:58.765243",
          "status": "completed"
        },
        "tags": [],
        "id": "9t3fZTl3b1NM",
        "outputId": "f8f98159-8b7b-4766-c1a4-e0a4b22329af"
      },
      "outputs": [
        {
          "data": {
            "text/plain": [
              "array([0.08312908, 0.64686741, 0.04276328, 0.60922456])"
            ]
          },
          "execution_count": 15,
          "metadata": {},
          "output_type": "execute_result"
        }
      ],
      "source": [
        "np.random.rand(4) #Generates random number between 0 to 1 in the range of specified number"
      ]
    },
    {
      "cell_type": "code",
      "execution_count": null,
      "metadata": {
        "execution": {
          "iopub.execute_input": "2020-08-17T05:09:58.817545Z",
          "iopub.status.busy": "2020-08-17T05:09:58.816384Z",
          "iopub.status.idle": "2020-08-17T05:09:58.821344Z",
          "shell.execute_reply": "2020-08-17T05:09:58.820652Z"
        },
        "papermill": {
          "duration": 0.022187,
          "end_time": "2020-08-17T05:09:58.821490",
          "exception": false,
          "start_time": "2020-08-17T05:09:58.799303",
          "status": "completed"
        },
        "tags": [],
        "id": "VXdZM_jBb1NM",
        "outputId": "34c1e0d7-5dea-4fa7-af68-67b65cb02549"
      },
      "outputs": [
        {
          "data": {
            "text/plain": [
              "array([ 0.24195672, -1.0426623 , -1.25304954, -0.65332846, -0.12758325,\n",
              "       -0.05063112,  0.41690073,  0.50288137,  0.33752439, -1.68025534])"
            ]
          },
          "execution_count": 16,
          "metadata": {},
          "output_type": "execute_result"
        }
      ],
      "source": [
        "np.random.randn(10) #Generates random number between Normal distributions in the range of specified number"
      ]
    },
    {
      "cell_type": "markdown",
      "metadata": {
        "papermill": {
          "duration": 0.01121,
          "end_time": "2020-08-17T05:09:58.844083",
          "exception": false,
          "start_time": "2020-08-17T05:09:58.832873",
          "status": "completed"
        },
        "tags": [],
        "id": "jX8fAteWb1NM"
      },
      "source": [
        "np.random.randint(start, stop, num) #Generates the Specified numbers from start to stop\n"
      ]
    },
    {
      "cell_type": "code",
      "execution_count": null,
      "metadata": {
        "execution": {
          "iopub.execute_input": "2020-08-17T05:09:58.873559Z",
          "iopub.status.busy": "2020-08-17T05:09:58.872670Z",
          "iopub.status.idle": "2020-08-17T05:09:58.877141Z",
          "shell.execute_reply": "2020-08-17T05:09:58.876332Z"
        },
        "papermill": {
          "duration": 0.021942,
          "end_time": "2020-08-17T05:09:58.877282",
          "exception": false,
          "start_time": "2020-08-17T05:09:58.855340",
          "status": "completed"
        },
        "tags": [],
        "id": "cObhU8X4b1NM",
        "outputId": "3b24edd3-3218-4b01-c73a-8645aaf2f49b"
      },
      "outputs": [
        {
          "data": {
            "text/plain": [
              "array([4, 4, 6, 2])"
            ]
          },
          "execution_count": 17,
          "metadata": {},
          "output_type": "execute_result"
        }
      ],
      "source": [
        "np.random.randint(1,10,4)"
      ]
    },
    {
      "cell_type": "code",
      "execution_count": null,
      "metadata": {
        "execution": {
          "iopub.execute_input": "2020-08-17T05:09:58.907674Z",
          "iopub.status.busy": "2020-08-17T05:09:58.906468Z",
          "iopub.status.idle": "2020-08-17T05:09:58.912146Z",
          "shell.execute_reply": "2020-08-17T05:09:58.912809Z"
        },
        "papermill": {
          "duration": 0.024109,
          "end_time": "2020-08-17T05:09:58.913026",
          "exception": false,
          "start_time": "2020-08-17T05:09:58.888917",
          "status": "completed"
        },
        "tags": [],
        "id": "JnLDP8OTb1NM",
        "outputId": "86282beb-3e95-4b90-cf29-9ea9d06399cf"
      },
      "outputs": [
        {
          "name": "stderr",
          "output_type": "stream",
          "text": [
            "/opt/conda/lib/python3.7/site-packages/ipykernel_launcher.py:1: DeprecationWarning: This function is deprecated. Please call randint(1, 4 + 1) instead\n",
            "  \"\"\"Entry point for launching an IPython kernel.\n"
          ]
        },
        {
          "data": {
            "text/plain": [
              "3"
            ]
          },
          "execution_count": 18,
          "metadata": {},
          "output_type": "execute_result"
        }
      ],
      "source": [
        "np.random.random_integers(4) #Gives the random number between 1 to specified number"
      ]
    },
    {
      "cell_type": "code",
      "execution_count": null,
      "metadata": {
        "execution": {
          "iopub.execute_input": "2020-08-17T05:09:58.944634Z",
          "iopub.status.busy": "2020-08-17T05:09:58.943682Z",
          "iopub.status.idle": "2020-08-17T05:09:58.949118Z",
          "shell.execute_reply": "2020-08-17T05:09:58.949692Z"
        },
        "papermill": {
          "duration": 0.025231,
          "end_time": "2020-08-17T05:09:58.949876",
          "exception": false,
          "start_time": "2020-08-17T05:09:58.924645",
          "status": "completed"
        },
        "tags": [],
        "id": "eOyjsw-Rb1NM",
        "outputId": "d474b730-e3f7-4b6a-eb2c-d02554036bf7"
      },
      "outputs": [
        {
          "name": "stderr",
          "output_type": "stream",
          "text": [
            "/opt/conda/lib/python3.7/site-packages/ipykernel_launcher.py:1: DeprecationWarning: This function is deprecated. Please call randint(1, 4 + 1) instead\n",
            "  \"\"\"Entry point for launching an IPython kernel.\n"
          ]
        },
        {
          "data": {
            "text/plain": [
              "array([[1, 4],\n",
              "       [2, 3]])"
            ]
          },
          "execution_count": 19,
          "metadata": {},
          "output_type": "execute_result"
        }
      ],
      "source": [
        "np.random.random_integers(4, size = (2,2))"
      ]
    },
    {
      "cell_type": "code",
      "execution_count": null,
      "metadata": {
        "papermill": {
          "duration": 0.011526,
          "end_time": "2020-08-17T05:09:58.973407",
          "exception": false,
          "start_time": "2020-08-17T05:09:58.961881",
          "status": "completed"
        },
        "tags": [],
        "id": "Rkz3mzPbb1NM"
      },
      "outputs": [],
      "source": []
    }
  ],
  "metadata": {
    "kernelspec": {
      "display_name": "Python 3",
      "language": "python",
      "name": "python3"
    },
    "language_info": {
      "codemirror_mode": {
        "name": "ipython",
        "version": 3
      },
      "file_extension": ".py",
      "mimetype": "text/x-python",
      "name": "python",
      "nbconvert_exporter": "python",
      "pygments_lexer": "ipython3",
      "version": "3.7.6"
    },
    "papermill": {
      "duration": 6.991829,
      "end_time": "2020-08-17T05:10:00.019897",
      "environment_variables": {},
      "exception": null,
      "input_path": "__notebook__.ipynb",
      "output_path": "__notebook__.ipynb",
      "parameters": {},
      "start_time": "2020-08-17T05:09:53.028068",
      "version": "2.1.0"
    },
    "colab": {
      "provenance": [],
      "include_colab_link": true
    }
  },
  "nbformat": 4,
  "nbformat_minor": 0
}